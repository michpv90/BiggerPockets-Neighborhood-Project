{
 "cells": [
  {
   "cell_type": "markdown",
   "id": "8d23d883",
   "metadata": {},
   "source": [
    "# Import Dependencies"
   ]
  },
  {
   "cell_type": "code",
   "execution_count": 2,
   "id": "a001d08d",
   "metadata": {},
   "outputs": [],
   "source": [
    "import pandas as pd\n",
    "from sodapy import Socrata\n",
    "import os\n",
    "import re\n",
    "import requests\n",
    "import json\n",
    "import folium\n",
    "from folium import plugins\n",
    "from folium.plugins import HeatMap\n",
    "import datetime\n",
    "import matplotlib.pyplot as plt\n",
    "import seaborn as sns\n",
    "from wordcloud import WordCloud, STOPWORDS\n",
    "import numpy as np\n",
    "from scipy import stats\n",
    "import statsmodels.api as sm\n",
    "import credentials\n",
    "\n",
    "pd.set_option(\"display.max_columns\", None)"
   ]
  },
  {
   "cell_type": "markdown",
   "id": "cffabea7",
   "metadata": {},
   "source": [
    "# Datasets"
   ]
  },
  {
   "cell_type": "markdown",
   "id": "5bac4a9c",
   "metadata": {},
   "source": [
    "## Residential Permit Dataset"
   ]
  },
  {
   "cell_type": "code",
   "execution_count": null,
   "id": "a869704a",
   "metadata": {},
   "outputs": [],
   "source": [
    "#authenticate client\n",
    "client = Socrata('data.montgomerycountymd.gov',credentials.data_moco_token,\n",
    "                 credentials.data_moco_username,credentials.data_moco_password)\n",
    "\n",
    "#API Call for all residential permits\n",
    "Res_permits = client.get_all(\"m88u-pqki\")\n",
    "\n",
    "#convert response to dataframe\n",
    "Res_permits_df = pd.DataFrame.from_records(Res_permits)"
   ]
  },
  {
   "cell_type": "code",
   "execution_count": null,
   "id": "2300192e",
   "metadata": {},
   "outputs": [],
   "source": [
    "Res_permits_df.columns"
   ]
  },
  {
   "cell_type": "code",
   "execution_count": null,
   "id": "1ac9e2c9",
   "metadata": {},
   "outputs": [],
   "source": [
    "len(set(Res_permits_df.city))"
   ]
  },
  {
   "cell_type": "markdown",
   "id": "a76f4d51",
   "metadata": {},
   "source": [
    "## Clean Residential Permit Dataset"
   ]
  },
  {
   "cell_type": "code",
   "execution_count": null,
   "id": "3d8536ae",
   "metadata": {},
   "outputs": [],
   "source": [
    "filtered_Res_permits_df['addeddate'] = pd.to_datetime(filtered_Res_permits_df['addeddate'])\n",
    "filtered_Res_permits_df['issueddate'] = pd.to_datetime(filtered_Res_permits_df['issueddate'])\n",
    "filtered_Res_permits_df['finaleddate'] = pd.to_datetime(filtered_Res_permits_df['finaleddate'])"
   ]
  },
  {
   "cell_type": "markdown",
   "id": "9b6b4bbf",
   "metadata": {},
   "source": [
    "## Crime Dataset"
   ]
  },
  {
   "cell_type": "code",
   "execution_count": null,
   "id": "fea57feb",
   "metadata": {},
   "outputs": [],
   "source": [
    "#authenticate client\n",
    "client = Socrata('data.montgomerycountymd.gov',credentials.data_moco_token,\n",
    "                 credentials.data_moco_username,credentials.data_moco_password)\n",
    "\n",
    "#API Call for all reported crimes\n",
    "reported_crime = client.get_all(\"icn6-v9z3\")\n",
    "\n",
    "#convert response to dataframe\n",
    "crime_df = pd.DataFrame.from_records(reported_crime)"
   ]
  },
  {
   "cell_type": "code",
   "execution_count": null,
   "id": "df135f48",
   "metadata": {},
   "outputs": [],
   "source": [
    "crime_df.head()"
   ]
  },
  {
   "cell_type": "markdown",
   "id": "319515de",
   "metadata": {},
   "source": [
    "## Clean Crime Dataset"
   ]
  },
  {
   "cell_type": "code",
   "execution_count": null,
   "id": "948ceabf",
   "metadata": {},
   "outputs": [],
   "source": [
    "#change column type from string to datetime\n",
    "crime_df['date'] = pd.to_datetime(crime_df['date'])\n",
    "\n",
    "#drop duplicate cases\n",
    "crime_df_2 = crime_df.drop(['geolocation'],axis='columns', inplace = False)\n",
    "crime_df_no_dups = crime_df_2.drop_duplicates(inplace=False)\n",
    "\n",
    "#drop undesired columns\n",
    "trimmed_crime_df = crime_df_no_dups.drop([':@computed_region_tx5f_5em3', ':@computed_region_kbsp_ykn9',\n",
    "       ':@computed_region_d7bw_bq6x', ':@computed_region_rbt8_3x7n',\n",
    "       ':@computed_region_a9cs_3ed7', ':@computed_region_r648_kzwt',\n",
    "       ':@computed_region_d9ke_fpxt', ':@computed_region_vu5j_pcmz', 'sector',\n",
    "       'beat', 'pra', 'agency', 'case_number', 'incident_id', 'nibrs_code',\n",
    "                                 'offence_code','start_date','end_date','police_district_number'\n",
    "                                         ],axis='columns', inplace = False)\n",
    "#create clean dataframe\n",
    "clean_crime_df = trimmed_crime_df.copy()"
   ]
  },
  {
   "cell_type": "code",
   "execution_count": null,
   "id": "56c343ea",
   "metadata": {},
   "outputs": [],
   "source": [
    "clean_crime_df.head()"
   ]
  },
  {
   "cell_type": "markdown",
   "id": "91f24a76",
   "metadata": {},
   "source": [
    "## Food Inspection Dataset"
   ]
  },
  {
   "cell_type": "code",
   "execution_count": null,
   "id": "bbf99fd7",
   "metadata": {},
   "outputs": [],
   "source": [
    "#authenticate client\n",
    "client = Socrata('data.montgomerycountymd.gov',credentials.data_moco_token,\n",
    "                 credentials.data_moco_username,credentials.data_moco_password)\n",
    "\n",
    "#API Call for all food inspections\n",
    "food_inspection = client.get_all(\"5pue-gfbe\")\n",
    "\n",
    "#convert response to dataframe\n",
    "food_df = pd.DataFrame.from_records(food_inspection)"
   ]
  },
  {
   "cell_type": "code",
   "execution_count": null,
   "id": "d5c81b33",
   "metadata": {},
   "outputs": [],
   "source": [
    "food_df.head()"
   ]
  },
  {
   "cell_type": "markdown",
   "id": "b5e1ca6c",
   "metadata": {},
   "source": [
    "## Clean Food Inspection Dataset"
   ]
  },
  {
   "cell_type": "code",
   "execution_count": null,
   "id": "ff15ffc0",
   "metadata": {},
   "outputs": [],
   "source": [
    "#drop undesired columns\n",
    "trimmed_food_df = food_df.drop([ ':@computed_region_tx5f_5em3', ':@computed_region_kbsp_ykn9',\n",
    "       ':@computed_region_d7bw_bq6x', ':@computed_region_rbt8_3x7n',\n",
    "       ':@computed_region_d9ke_fpxt',':@computed_region_vu5j_pcmz','violation1', 'violation2', 'violation3',\n",
    "       'violation4', 'violation5', 'violation6a', 'violation6b', 'violation7a',\n",
    "       'violation7b', 'violation8', 'violation9', 'violation20', 'violation22',\n",
    "       'violationmenu', 'violationtransfat', 'violationsmoking','inspectiontype',\n",
    "                                'inspectionresults','inspectiondate', 'location'],axis='columns', inplace = False)\n",
    "\n",
    "#list for establishment categories of interest\n",
    "store_categories = ['Restaurant','Market', 'Farmers Market', 'Carry Out']\n",
    "\n",
    "#filter dataframe for desired location categories and create new dataframe\n",
    "filtered_food_df = trimmed_food_df.loc[trimmed_food_df.category.isin(store_categories)]\n",
    "\n",
    "#drop duplicate stores to get a list of unique establishments\n",
    "clean_food_df = filtered_food_df.drop_duplicates(inplace=False)"
   ]
  },
  {
   "cell_type": "code",
   "execution_count": null,
   "id": "155d2ddc",
   "metadata": {},
   "outputs": [],
   "source": [
    "clean_food_df.head()"
   ]
  },
  {
   "cell_type": "markdown",
   "id": "6e7deaec",
   "metadata": {},
   "source": [
    "## SDAT Dataset"
   ]
  },
  {
   "cell_type": "code",
   "execution_count": null,
   "id": "0fb5e248",
   "metadata": {},
   "outputs": [],
   "source": [
    "#create a list of desired fields\n",
    "fields = ['premise_address_number_mdp_field_premsnum_sdat_field_20','premise_address_name_mdp_field_premsnam_sdat_field_23',\n",
    "          'premise_address_type_mdp_field_premstyp_sdat_field_24','premise_address_city_mdp_field_premcity_sdat_field_25',\n",
    "          'premise_address_zip_code_mdp_field_premzip_sdat_field_26',\n",
    "          'sales_segment_1_transfer_date_yyyy_mm_dd_mdp_field_tradate_sdat_field_89',\n",
    "          'sales_segment_1_consideration_mdp_field_considr1_sdat_field_90',\n",
    "          'land_use_code_mdp_field_lu_desclu_sdat_field_50']\n",
    "\n",
    "#convert list of desired fields into a string to be set as an arguement in API Call\n",
    "select_statement = ','.join(fields)\n",
    "\n",
    "#authenticate client \n",
    "client = Socrata(\"opendata.maryland.gov\",credentials.data_moco_token,\n",
    "                 credentials.data_moco_username,credentials.data_moco_password)\n",
    "\n",
    "#API Call for all properties in Montgomery County\n",
    "sdat_results = client.get_all(\"ed4q-f8tm\", where='county_name_mdp_field_cntyname = \"Montgomery County\"',\n",
    "                               select = select_statement)\n",
    "                            \n",
    "\n",
    "# Convert to pandas DataFrame\n",
    "sdat_df = pd.DataFrame.from_records(sdat_results)"
   ]
  },
  {
   "cell_type": "markdown",
   "id": "917a4e81",
   "metadata": {},
   "source": [
    "## Clean SDAT Data"
   ]
  },
  {
   "cell_type": "code",
   "execution_count": null,
   "id": "94f82319",
   "metadata": {},
   "outputs": [],
   "source": [
    "#Rename columns\n",
    "sdat_df= sdat_df.rename(columns={\"premise_address_number_mdp_field_premsnum_sdat_field_20\":\"stno\",\n",
    "                     'premise_address_name_mdp_field_premsnam_sdat_field_23':\"stname\",\n",
    "                     'premise_address_type_mdp_field_premstyp_sdat_field_24':\"suffix\",\n",
    "                     'premise_address_city_mdp_field_premcity_sdat_field_25': 'city', \n",
    "                     'premise_address_zip_code_mdp_field_premzip_sdat_field_26': 'zip',\n",
    "                     'sales_segment_1_transfer_date_yyyy_mm_dd_mdp_field_tradate_sdat_field_89': 'sales_date',\n",
    "                     'sales_segment_1_consideration_mdp_field_considr1_sdat_field_90': 'sales_price',\n",
    "                     'land_use_code_mdp_field_lu_desclu_sdat_field_50': 'land_use_code'})\n",
    "\n",
    "#drop duplicates\n",
    "sdat_df_no_dups = sdat_df.drop_duplicates(inplace=False)\n",
    "\n",
    "#change date from '0000.00.00' to '1800.01.01' for processing purposes \n",
    "sdat_df_adjust = sdat_df_no_dups.replace('0000.00.00','1800.01.01')\n",
    "\n",
    "#create dict to fill null values in sales price column\n",
    "values = {\"sales_price\": 0}\n",
    "\n",
    "#fill null values in sales price column\n",
    "sdat_df_adjust_2 = sdat_df_adjust.fillna(value=values, inplace=False)\n",
    "\n",
    "#convert sales date from a string to datetime format\n",
    "sdat_df_adjust_2['sales_date'] = pd.to_datetime(sdat_df_adjust_2['sales_date'])\n",
    "\n",
    "#convert street number from string to interger to remove zeros\n",
    "sdat_df_adjust_2['sales_price'] = sdat_df_adjust_2['sales_price'].astype('float')\n",
    "\n",
    "#convert street number from string to interger to remove zeros\n",
    "sdat_df_adjust_2['stno'] = sdat_df_adjust_2['stno'].astype('int')\n",
    "\n",
    "#convert street number from interger to string after leading zeros were removed\n",
    "sdat_df_adjust_2['stno'] = sdat_df_adjust_2['stno'].astype('str')\n",
    "\n",
    "#filtered_sdat_df = filtered_sdat_df.loc[filtered_sdat_df.stno !='0']\n",
    "\n",
    "#filter for properties sold after 1/1/2016\n",
    "filtered_sdat_df = sdat_df_adjust_2.loc[sdat_df_adjust_2['sales_date'] >= datetime.datetime(2016, 1, 1)]\n",
    "\n",
    "#filter for only residential properties\n",
    "filtered_sdat_df_2 = filtered_sdat_df.loc[filtered_sdat_df.sales_price > 0]\n",
    "\n",
    "#filter for only residential properties\n",
    "residential_sdat_df = filtered_sdat_df_2.loc[filtered_sdat_df.land_use_code =='Residential (R)']"
   ]
  },
  {
   "cell_type": "code",
   "execution_count": null,
   "id": "a452b087",
   "metadata": {},
   "outputs": [],
   "source": [
    "residential_sdat_df.head()"
   ]
  },
  {
   "cell_type": "markdown",
   "id": "56d9ee27",
   "metadata": {},
   "source": [
    "## Great Schools Dataset"
   ]
  },
  {
   "cell_type": "code",
   "execution_count": null,
   "id": "c7b1eaca",
   "metadata": {},
   "outputs": [],
   "source": []
  },
  {
   "cell_type": "markdown",
   "id": "b2d7731b",
   "metadata": {},
   "source": [
    "## Census Dataset"
   ]
  },
  {
   "cell_type": "code",
   "execution_count": 3,
   "id": "c9b78601",
   "metadata": {},
   "outputs": [],
   "source": [
    "#ACS5 median income by state and place\n",
    "url = f\"https://api.census.gov/data/2020/acs/acs5?get=NAME,B19013_001E&for=place:*&in=state:24&key={credentials.census_key}\"\n",
    "\n",
    "#API Call \n",
    "response = requests.request(\"GET\", url)\n",
    "\n",
    "#convert json to list\n",
    "result = json.loads(response.text)\n",
    "\n",
    "#create dataframe from list of results\n",
    "df = pd.DataFrame(result, columns =['place_name', 'median_income', 'state', 'place_code'])\n",
    "income_df = df.iloc [1:]"
   ]
  },
  {
   "cell_type": "markdown",
   "id": "f26f1611",
   "metadata": {},
   "source": [
    "## Clean Census Dataset"
   ]
  },
  {
   "cell_type": "code",
   "execution_count": 4,
   "id": "7484e10e",
   "metadata": {},
   "outputs": [],
   "source": [
    "def clean_place_name(dataframe):\n",
    "    output = [] \n",
    "    for i,row in dataframe.iterrows():\n",
    "        clean_place= re.sub('\\sCDP', '',  row.place_name)\n",
    "        output.append(clean_place)\n",
    "    return output"
   ]
  },
  {
   "cell_type": "code",
   "execution_count": 5,
   "id": "48f84090",
   "metadata": {},
   "outputs": [
    {
     "name": "stderr",
     "output_type": "stream",
     "text": [
      "C:\\Users\\mivul\\AppData\\Local\\Temp/ipykernel_13576/1118637872.py:1: SettingWithCopyWarning: \n",
      "A value is trying to be set on a copy of a slice from a DataFrame.\n",
      "Try using .loc[row_indexer,col_indexer] = value instead\n",
      "\n",
      "See the caveats in the documentation: https://pandas.pydata.org/pandas-docs/stable/user_guide/indexing.html#returning-a-view-versus-a-copy\n",
      "  income_df['clean_place_name'] = clean_place_name(income_df)\n"
     ]
    }
   ],
   "source": [
    "income_df['clean_place_name'] = clean_place_name(income_df)"
   ]
  },
  {
   "cell_type": "code",
   "execution_count": 6,
   "id": "e3b2aebc",
   "metadata": {},
   "outputs": [
    {
     "data": {
      "text/html": [
       "<div>\n",
       "<style scoped>\n",
       "    .dataframe tbody tr th:only-of-type {\n",
       "        vertical-align: middle;\n",
       "    }\n",
       "\n",
       "    .dataframe tbody tr th {\n",
       "        vertical-align: top;\n",
       "    }\n",
       "\n",
       "    .dataframe thead th {\n",
       "        text-align: right;\n",
       "    }\n",
       "</style>\n",
       "<table border=\"1\" class=\"dataframe\">\n",
       "  <thead>\n",
       "    <tr style=\"text-align: right;\">\n",
       "      <th></th>\n",
       "      <th>place_name</th>\n",
       "      <th>median_income</th>\n",
       "      <th>state</th>\n",
       "      <th>place_code</th>\n",
       "      <th>clean_place_name</th>\n",
       "    </tr>\n",
       "  </thead>\n",
       "  <tbody>\n",
       "    <tr>\n",
       "      <th>1</th>\n",
       "      <td>Rising Sun town, Maryland</td>\n",
       "      <td>72021</td>\n",
       "      <td>24</td>\n",
       "      <td>66275</td>\n",
       "      <td>Rising Sun town, Maryland</td>\n",
       "    </tr>\n",
       "    <tr>\n",
       "      <th>2</th>\n",
       "      <td>Riva CDP, Maryland</td>\n",
       "      <td>126792</td>\n",
       "      <td>24</td>\n",
       "      <td>66400</td>\n",
       "      <td>Riva, Maryland</td>\n",
       "    </tr>\n",
       "    <tr>\n",
       "      <th>3</th>\n",
       "      <td>Riverdale Park town, Maryland</td>\n",
       "      <td>84695</td>\n",
       "      <td>24</td>\n",
       "      <td>66635</td>\n",
       "      <td>Riverdale Park town, Maryland</td>\n",
       "    </tr>\n",
       "    <tr>\n",
       "      <th>4</th>\n",
       "      <td>Riverside CDP, Maryland</td>\n",
       "      <td>79620</td>\n",
       "      <td>24</td>\n",
       "      <td>66762</td>\n",
       "      <td>Riverside, Maryland</td>\n",
       "    </tr>\n",
       "    <tr>\n",
       "      <th>5</th>\n",
       "      <td>Riviera Beach CDP, Maryland</td>\n",
       "      <td>94773</td>\n",
       "      <td>24</td>\n",
       "      <td>66850</td>\n",
       "      <td>Riviera Beach, Maryland</td>\n",
       "    </tr>\n",
       "    <tr>\n",
       "      <th>...</th>\n",
       "      <td>...</td>\n",
       "      <td>...</td>\n",
       "      <td>...</td>\n",
       "      <td>...</td>\n",
       "      <td>...</td>\n",
       "    </tr>\n",
       "    <tr>\n",
       "      <th>532</th>\n",
       "      <td>Rawlings CDP, Maryland</td>\n",
       "      <td>-666666666</td>\n",
       "      <td>24</td>\n",
       "      <td>65150</td>\n",
       "      <td>Rawlings, Maryland</td>\n",
       "    </tr>\n",
       "    <tr>\n",
       "      <th>533</th>\n",
       "      <td>Redland CDP, Maryland</td>\n",
       "      <td>123005</td>\n",
       "      <td>24</td>\n",
       "      <td>65312</td>\n",
       "      <td>Redland, Maryland</td>\n",
       "    </tr>\n",
       "    <tr>\n",
       "      <th>534</th>\n",
       "      <td>Reid CDP, Maryland</td>\n",
       "      <td>-666666666</td>\n",
       "      <td>24</td>\n",
       "      <td>65550</td>\n",
       "      <td>Reid, Maryland</td>\n",
       "    </tr>\n",
       "    <tr>\n",
       "      <th>535</th>\n",
       "      <td>Reisterstown CDP, Maryland</td>\n",
       "      <td>71851</td>\n",
       "      <td>24</td>\n",
       "      <td>65600</td>\n",
       "      <td>Reisterstown, Maryland</td>\n",
       "    </tr>\n",
       "    <tr>\n",
       "      <th>536</th>\n",
       "      <td>Ridgely town, Maryland</td>\n",
       "      <td>55977</td>\n",
       "      <td>24</td>\n",
       "      <td>66000</td>\n",
       "      <td>Ridgely town, Maryland</td>\n",
       "    </tr>\n",
       "  </tbody>\n",
       "</table>\n",
       "<p>536 rows × 5 columns</p>\n",
       "</div>"
      ],
      "text/plain": [
       "                        place_name median_income state place_code  \\\n",
       "1        Rising Sun town, Maryland         72021    24      66275   \n",
       "2               Riva CDP, Maryland        126792    24      66400   \n",
       "3    Riverdale Park town, Maryland         84695    24      66635   \n",
       "4          Riverside CDP, Maryland         79620    24      66762   \n",
       "5      Riviera Beach CDP, Maryland         94773    24      66850   \n",
       "..                             ...           ...   ...        ...   \n",
       "532         Rawlings CDP, Maryland    -666666666    24      65150   \n",
       "533          Redland CDP, Maryland        123005    24      65312   \n",
       "534             Reid CDP, Maryland    -666666666    24      65550   \n",
       "535     Reisterstown CDP, Maryland         71851    24      65600   \n",
       "536         Ridgely town, Maryland         55977    24      66000   \n",
       "\n",
       "                  clean_place_name  \n",
       "1        Rising Sun town, Maryland  \n",
       "2                   Riva, Maryland  \n",
       "3    Riverdale Park town, Maryland  \n",
       "4              Riverside, Maryland  \n",
       "5          Riviera Beach, Maryland  \n",
       "..                             ...  \n",
       "532             Rawlings, Maryland  \n",
       "533              Redland, Maryland  \n",
       "534                 Reid, Maryland  \n",
       "535         Reisterstown, Maryland  \n",
       "536         Ridgely town, Maryland  \n",
       "\n",
       "[536 rows x 5 columns]"
      ]
     },
     "execution_count": 6,
     "metadata": {},
     "output_type": "execute_result"
    }
   ],
   "source": [
    "income_df"
   ]
  },
  {
   "cell_type": "code",
   "execution_count": null,
   "id": "36028145",
   "metadata": {},
   "outputs": [],
   "source": [
    "t = income_df.loc[income_df.place_name == 'Fairland CDP, Maryland']\n",
    "\n",
    "for i,row in t.iterrows():\n",
    "    #pattern = re.compile('^Maryland')\n",
    "    clean_address = re.sub('\\sCDP,\\sMaryland', '',  row.place_name)\n",
    "    print(clean_address)"
   ]
  },
  {
   "cell_type": "code",
   "execution_count": null,
   "id": "b07528de",
   "metadata": {},
   "outputs": [],
   "source": [
    "from credentials import google_key"
   ]
  },
  {
   "cell_type": "code",
   "execution_count": 9,
   "id": "7f44d7c3",
   "metadata": {},
   "outputs": [],
   "source": [
    "address = 'Ridgely town, Maryland'\n",
    "api_response = requests.get('https://maps.googleapis.com/maps/api/geocode/json?address={0}&key={1}'.format(address, credentials.google_key))\n",
    "api_response_dict = api_response.json()"
   ]
  },
  {
   "cell_type": "code",
   "execution_count": 8,
   "id": "a45f227c",
   "metadata": {},
   "outputs": [
    {
     "data": {
      "text/plain": [
       "{'results': [{'address_components': [{'long_name': 'Reisterstown',\n",
       "     'short_name': 'Reisterstown',\n",
       "     'types': ['locality', 'political']},\n",
       "    {'long_name': 'Baltimore County',\n",
       "     'short_name': 'Baltimore County',\n",
       "     'types': ['administrative_area_level_2', 'political']},\n",
       "    {'long_name': 'Maryland',\n",
       "     'short_name': 'MD',\n",
       "     'types': ['administrative_area_level_1', 'political']},\n",
       "    {'long_name': 'United States',\n",
       "     'short_name': 'US',\n",
       "     'types': ['country', 'political']}],\n",
       "   'formatted_address': 'Reisterstown, MD, USA',\n",
       "   'geometry': {'bounds': {'northeast': {'lat': 39.4842559,\n",
       "      'lng': -76.78330509999999},\n",
       "     'southwest': {'lat': 39.4343069, 'lng': -76.839055}},\n",
       "    'location': {'lat': 39.4695489, 'lng': -76.82942129999999},\n",
       "    'location_type': 'APPROXIMATE',\n",
       "    'viewport': {'northeast': {'lat': 39.4842559, 'lng': -76.78330509999999},\n",
       "     'southwest': {'lat': 39.4343069, 'lng': -76.839055}}},\n",
       "   'place_id': 'ChIJGywN1xAWyIkRIEJyjFUZEgc',\n",
       "   'types': ['locality', 'political']}],\n",
       " 'status': 'OK'}"
      ]
     },
     "execution_count": 8,
     "metadata": {},
     "output_type": "execute_result"
    }
   ],
   "source": [
    "api_response_dict"
   ]
  },
  {
   "cell_type": "markdown",
   "id": "751590d1",
   "metadata": {},
   "source": [
    "## Vacancy Dataset"
   ]
  },
  {
   "cell_type": "code",
   "execution_count": null,
   "id": "8d83b4fd",
   "metadata": {},
   "outputs": [],
   "source": [
    "#maybe pop density"
   ]
  },
  {
   "cell_type": "markdown",
   "id": "859ab3cf",
   "metadata": {},
   "source": [
    "## Zillow Dataset"
   ]
  },
  {
   "cell_type": "code",
   "execution_count": null,
   "id": "cfa8150a",
   "metadata": {},
   "outputs": [],
   "source": [
    "#Function to call API for property types\n",
    "def zillow_api(home_type):\n",
    "    \"\"\"Acquire Zillow data from API for properties on the market by home type\"\"\"\n",
    "    url = \"https://zillow-com1.p.rapidapi.com/propertyExtendedSearch\"\n",
    "\n",
    "    querystring = {\"location\":\"montgomery county, md\",\"page\":\"1\",\"status_type\":\"ForSale\",\"home_type\":home_type,\n",
    "                   \"sort\":\"Newest\",\"maxPrice\":\"587000\"}\n",
    "\n",
    "    headers = {\n",
    "        \"X-RapidAPI-Host\": \"zillow-com1.p.rapidapi.com\",\n",
    "        \"X-RapidAPI-Key\": credentials.rapid_key}\n",
    "\n",
    "    #API Call \n",
    "    response = requests.request(\"GET\", url, headers=headers, params=querystring)\n",
    "\n",
    "    #convert response to dictionary\n",
    "    result = json.loads(response.text)\n",
    "\n",
    "    #convert dictionary to dataframe\n",
    "    zillow_df = pd.DataFrame.from_dict(result.get('props')) \n",
    "\n",
    "    if result.get('totalPages', 0) > 1:\n",
    "        count = 2\n",
    "        for x in range(result.get('totalPages')-1):\n",
    "            if x == 0:\n",
    "                querystring['page'] = x + count \n",
    "                response = requests.request(\"GET\", url, headers=headers, params=querystring)\n",
    "                result = json.loads(response.text)\n",
    "                zillow_temp_df = pd.DataFrame.from_dict(result.get('props')) \n",
    "                full_zillow_df = pd.concat([zillow_df, zillow_temp_df])\n",
    "            else:\n",
    "                querystring['page'] = x + count \n",
    "                response = requests.request(\"GET\", url, headers=headers, params=querystring)\n",
    "                result = json.loads(response.text)\n",
    "                zillow_temp_df = pd.DataFrame.from_dict(result.get('props')) \n",
    "                full_zillow_df = pd.concat([full_zillow_df, zillow_temp_df]) \n",
    "        return full_zillow_df\n",
    "    else:\n",
    "        return zillow_df"
   ]
  },
  {
   "cell_type": "code",
   "execution_count": null,
   "id": "0d2ba352",
   "metadata": {},
   "outputs": [],
   "source": [
    "#upload properties for sale from zillow api\n",
    "zillow_house = zillow_api('Houses')\n",
    "zillow_townhomes = zillow_api('Townhomes')\n",
    "zillow_multi_family = zillow_api('Multi-family')\n",
    "zillow_condos = zillow_api('Condos')\n",
    "\n",
    "#merge the tables of different property types to form one table\n",
    "complete_zillow_df = pd.concat([zillow_house,zillow_townhomes, zillow_multi_family , zillow_condos]) "
   ]
  },
  {
   "cell_type": "markdown",
   "id": "48fba1e0",
   "metadata": {},
   "source": [
    "## Clean Zillow Dataset"
   ]
  },
  {
   "cell_type": "code",
   "execution_count": null,
   "id": "7edd0c93",
   "metadata": {},
   "outputs": [],
   "source": [
    "#convert the address column to lowercase\n",
    "complete_zillow_df['address'] = complete_zillow_df['address'].str.lower()\n",
    "\n",
    "#drop rows with missing longitude\n",
    "complete_zillow_df.dropna(subset=['longitude'], inplace = True)"
   ]
  },
  {
   "cell_type": "markdown",
   "id": "97cf44b2",
   "metadata": {},
   "source": [
    "# Maps"
   ]
  },
  {
   "cell_type": "code",
   "execution_count": null,
   "id": "0e629fe5",
   "metadata": {},
   "outputs": [],
   "source": []
  },
  {
   "cell_type": "markdown",
   "id": "4da59438",
   "metadata": {},
   "source": [
    "## Sources\n",
    "\n",
    "- https://www.census.gov/data/developers/data-sets/acs-5year.html\n",
    "- https://www.data.montgomerycountymd.gov "
   ]
  }
 ],
 "metadata": {
  "kernelspec": {
   "display_name": "Python 3 (ipykernel)",
   "language": "python",
   "name": "python3"
  },
  "language_info": {
   "codemirror_mode": {
    "name": "ipython",
    "version": 3
   },
   "file_extension": ".py",
   "mimetype": "text/x-python",
   "name": "python",
   "nbconvert_exporter": "python",
   "pygments_lexer": "ipython3",
   "version": "3.8.3"
  }
 },
 "nbformat": 4,
 "nbformat_minor": 5
}
